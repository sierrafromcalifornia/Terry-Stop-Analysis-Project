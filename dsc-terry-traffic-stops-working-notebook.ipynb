{
 "cells": [
  {
   "cell_type": "code",
   "execution_count": null,
   "metadata": {},
   "outputs": [],
   "source": []
  },
  {
   "cell_type": "code",
   "execution_count": 24,
   "metadata": {},
   "outputs": [],
   "source": [
    "# import necessary packages\n",
    "\n",
    "import pandas as pd\n",
    "import numpy as np \n",
    "import matplotlib.pyplot as plt\n",
    "import seaborn as sns\n",
    "from sklearn.preprocessing import StandardScaler, LabelEncoder, OneHotEncoder, StandardScaler\n",
    "from sklearn.linear_model import LogisticRegression\n",
    "from sklearn.metrics import f1_score, precision_score, accuracy_score, recall_score\n",
    "from sklearn.model_selection import train_test_split, cross_val_score, GridSearchCV, KFold\n",
    "from sklearn.tree import DecisionTreeClassifier, plot_tree\n",
    "from sklearn.neighbors import KNeighborsClassifier"
   ]
  },
  {
   "cell_type": "markdown",
   "metadata": {},
   "source": [
    "## Import: Terry Stops"
   ]
  },
  {
   "cell_type": "code",
   "execution_count": 25,
   "metadata": {
    "scrolled": false
   },
   "outputs": [
    {
     "data": {
      "text/html": [
       "<div>\n",
       "<style scoped>\n",
       "    .dataframe tbody tr th:only-of-type {\n",
       "        vertical-align: middle;\n",
       "    }\n",
       "\n",
       "    .dataframe tbody tr th {\n",
       "        vertical-align: top;\n",
       "    }\n",
       "\n",
       "    .dataframe thead th {\n",
       "        text-align: right;\n",
       "    }\n",
       "</style>\n",
       "<table border=\"1\" class=\"dataframe\">\n",
       "  <thead>\n",
       "    <tr style=\"text-align: right;\">\n",
       "      <th></th>\n",
       "      <th>Subject Age Group</th>\n",
       "      <th>Subject ID</th>\n",
       "      <th>GO / SC Num</th>\n",
       "      <th>Terry Stop ID</th>\n",
       "      <th>Stop Resolution</th>\n",
       "      <th>Weapon Type</th>\n",
       "      <th>Officer ID</th>\n",
       "      <th>Officer YOB</th>\n",
       "      <th>Officer Gender</th>\n",
       "      <th>Officer Race</th>\n",
       "      <th>...</th>\n",
       "      <th>Reported Time</th>\n",
       "      <th>Initial Call Type</th>\n",
       "      <th>Final Call Type</th>\n",
       "      <th>Call Type</th>\n",
       "      <th>Officer Squad</th>\n",
       "      <th>Arrest Flag</th>\n",
       "      <th>Frisk Flag</th>\n",
       "      <th>Precinct</th>\n",
       "      <th>Sector</th>\n",
       "      <th>Beat</th>\n",
       "    </tr>\n",
       "  </thead>\n",
       "  <tbody>\n",
       "    <tr>\n",
       "      <th>0</th>\n",
       "      <td>-</td>\n",
       "      <td>-1</td>\n",
       "      <td>20140000120677</td>\n",
       "      <td>92317</td>\n",
       "      <td>Arrest</td>\n",
       "      <td>None</td>\n",
       "      <td>7500</td>\n",
       "      <td>1984</td>\n",
       "      <td>M</td>\n",
       "      <td>Black or African American</td>\n",
       "      <td>...</td>\n",
       "      <td>11:32:00</td>\n",
       "      <td>-</td>\n",
       "      <td>-</td>\n",
       "      <td>-</td>\n",
       "      <td>SOUTH PCT 1ST W - ROBERT</td>\n",
       "      <td>N</td>\n",
       "      <td>N</td>\n",
       "      <td>South</td>\n",
       "      <td>O</td>\n",
       "      <td>O2</td>\n",
       "    </tr>\n",
       "    <tr>\n",
       "      <th>1</th>\n",
       "      <td>-</td>\n",
       "      <td>-1</td>\n",
       "      <td>20150000001463</td>\n",
       "      <td>28806</td>\n",
       "      <td>Field Contact</td>\n",
       "      <td>None</td>\n",
       "      <td>5670</td>\n",
       "      <td>1965</td>\n",
       "      <td>M</td>\n",
       "      <td>White</td>\n",
       "      <td>...</td>\n",
       "      <td>07:59:00</td>\n",
       "      <td>-</td>\n",
       "      <td>-</td>\n",
       "      <td>-</td>\n",
       "      <td>NaN</td>\n",
       "      <td>N</td>\n",
       "      <td>N</td>\n",
       "      <td>-</td>\n",
       "      <td>-</td>\n",
       "      <td>-</td>\n",
       "    </tr>\n",
       "    <tr>\n",
       "      <th>2</th>\n",
       "      <td>-</td>\n",
       "      <td>-1</td>\n",
       "      <td>20150000001516</td>\n",
       "      <td>29599</td>\n",
       "      <td>Field Contact</td>\n",
       "      <td>None</td>\n",
       "      <td>4844</td>\n",
       "      <td>1961</td>\n",
       "      <td>M</td>\n",
       "      <td>White</td>\n",
       "      <td>...</td>\n",
       "      <td>19:12:00</td>\n",
       "      <td>-</td>\n",
       "      <td>-</td>\n",
       "      <td>-</td>\n",
       "      <td>NaN</td>\n",
       "      <td>N</td>\n",
       "      <td>-</td>\n",
       "      <td>-</td>\n",
       "      <td>-</td>\n",
       "      <td>-</td>\n",
       "    </tr>\n",
       "    <tr>\n",
       "      <th>3</th>\n",
       "      <td>-</td>\n",
       "      <td>-1</td>\n",
       "      <td>20150000001670</td>\n",
       "      <td>32260</td>\n",
       "      <td>Field Contact</td>\n",
       "      <td>None</td>\n",
       "      <td>7539</td>\n",
       "      <td>1963</td>\n",
       "      <td>M</td>\n",
       "      <td>White</td>\n",
       "      <td>...</td>\n",
       "      <td>04:55:00</td>\n",
       "      <td>-</td>\n",
       "      <td>-</td>\n",
       "      <td>-</td>\n",
       "      <td>NaN</td>\n",
       "      <td>N</td>\n",
       "      <td>N</td>\n",
       "      <td>-</td>\n",
       "      <td>-</td>\n",
       "      <td>-</td>\n",
       "    </tr>\n",
       "    <tr>\n",
       "      <th>4</th>\n",
       "      <td>-</td>\n",
       "      <td>-1</td>\n",
       "      <td>20150000001739</td>\n",
       "      <td>33155</td>\n",
       "      <td>Field Contact</td>\n",
       "      <td>None</td>\n",
       "      <td>6973</td>\n",
       "      <td>1977</td>\n",
       "      <td>M</td>\n",
       "      <td>White</td>\n",
       "      <td>...</td>\n",
       "      <td>00:41:00</td>\n",
       "      <td>-</td>\n",
       "      <td>-</td>\n",
       "      <td>-</td>\n",
       "      <td>NaN</td>\n",
       "      <td>N</td>\n",
       "      <td>N</td>\n",
       "      <td>-</td>\n",
       "      <td>-</td>\n",
       "      <td>-</td>\n",
       "    </tr>\n",
       "  </tbody>\n",
       "</table>\n",
       "<p>5 rows × 23 columns</p>\n",
       "</div>"
      ],
      "text/plain": [
       "  Subject Age Group  Subject ID     GO / SC Num  Terry Stop ID  \\\n",
       "0                 -          -1  20140000120677          92317   \n",
       "1                 -          -1  20150000001463          28806   \n",
       "2                 -          -1  20150000001516          29599   \n",
       "3                 -          -1  20150000001670          32260   \n",
       "4                 -          -1  20150000001739          33155   \n",
       "\n",
       "  Stop Resolution Weapon Type Officer ID  Officer YOB Officer Gender  \\\n",
       "0          Arrest        None     7500           1984              M   \n",
       "1   Field Contact        None     5670           1965              M   \n",
       "2   Field Contact        None     4844           1961              M   \n",
       "3   Field Contact        None     7539           1963              M   \n",
       "4   Field Contact        None     6973           1977              M   \n",
       "\n",
       "                Officer Race  ... Reported Time Initial Call Type  \\\n",
       "0  Black or African American  ...      11:32:00                 -   \n",
       "1                      White  ...      07:59:00                 -   \n",
       "2                      White  ...      19:12:00                 -   \n",
       "3                      White  ...      04:55:00                 -   \n",
       "4                      White  ...      00:41:00                 -   \n",
       "\n",
       "  Final Call Type Call Type             Officer Squad Arrest Flag Frisk Flag  \\\n",
       "0               -         -  SOUTH PCT 1ST W - ROBERT           N          N   \n",
       "1               -         -                       NaN           N          N   \n",
       "2               -         -                       NaN           N          -   \n",
       "3               -         -                       NaN           N          N   \n",
       "4               -         -                       NaN           N          N   \n",
       "\n",
       "  Precinct  Sector    Beat  \n",
       "0    South  O       O2      \n",
       "1        -       -       -  \n",
       "2        -       -       -  \n",
       "3        -       -       -  \n",
       "4        -       -       -  \n",
       "\n",
       "[5 rows x 23 columns]"
      ]
     },
     "execution_count": 25,
     "metadata": {},
     "output_type": "execute_result"
    }
   ],
   "source": [
    "# import Terry_Stops.csv\n",
    "\n",
    "df_ts = pd.read_csv('data/Terry_Stops.csv')\n",
    "df_ts.head()"
   ]
  },
  {
   "cell_type": "code",
   "execution_count": 26,
   "metadata": {},
   "outputs": [
    {
     "name": "stdout",
     "output_type": "stream",
     "text": [
      "<class 'pandas.core.frame.DataFrame'>\n",
      "RangeIndex: 47297 entries, 0 to 47296\n",
      "Data columns (total 23 columns):\n",
      " #   Column                    Non-Null Count  Dtype \n",
      "---  ------                    --------------  ----- \n",
      " 0   Subject Age Group         47297 non-null  object\n",
      " 1   Subject ID                47297 non-null  int64 \n",
      " 2   GO / SC Num               47297 non-null  int64 \n",
      " 3   Terry Stop ID             47297 non-null  int64 \n",
      " 4   Stop Resolution           47297 non-null  object\n",
      " 5   Weapon Type               47297 non-null  object\n",
      " 6   Officer ID                47297 non-null  object\n",
      " 7   Officer YOB               47297 non-null  int64 \n",
      " 8   Officer Gender            47297 non-null  object\n",
      " 9   Officer Race              47297 non-null  object\n",
      " 10  Subject Perceived Race    47297 non-null  object\n",
      " 11  Subject Perceived Gender  47297 non-null  object\n",
      " 12  Reported Date             47297 non-null  object\n",
      " 13  Reported Time             47297 non-null  object\n",
      " 14  Initial Call Type         47297 non-null  object\n",
      " 15  Final Call Type           47297 non-null  object\n",
      " 16  Call Type                 47297 non-null  object\n",
      " 17  Officer Squad             46693 non-null  object\n",
      " 18  Arrest Flag               47297 non-null  object\n",
      " 19  Frisk Flag                47297 non-null  object\n",
      " 20  Precinct                  47297 non-null  object\n",
      " 21  Sector                    47297 non-null  object\n",
      " 22  Beat                      47297 non-null  object\n",
      "dtypes: int64(4), object(19)\n",
      "memory usage: 8.3+ MB\n"
     ]
    }
   ],
   "source": [
    "df_ts.info()"
   ]
  },
  {
   "cell_type": "markdown",
   "metadata": {},
   "source": [
    "## Clean Data"
   ]
  },
  {
   "cell_type": "markdown",
   "metadata": {},
   "source": [
    "1. Drop null values\n",
    "2. Simplify relevant columns"
   ]
  },
  {
   "cell_type": "code",
   "execution_count": 27,
   "metadata": {},
   "outputs": [],
   "source": [
    "# delete column with null values\n",
    "\n",
    "df_ts.drop(columns=[\"Officer Squad\"], inplace=True)"
   ]
  },
  {
   "cell_type": "code",
   "execution_count": 28,
   "metadata": {},
   "outputs": [
    {
     "data": {
      "text/plain": [
       "Subject Age Group           0\n",
       "Subject ID                  0\n",
       "GO / SC Num                 0\n",
       "Terry Stop ID               0\n",
       "Stop Resolution             0\n",
       "Weapon Type                 0\n",
       "Officer ID                  0\n",
       "Officer YOB                 0\n",
       "Officer Gender              0\n",
       "Officer Race                0\n",
       "Subject Perceived Race      0\n",
       "Subject Perceived Gender    0\n",
       "Reported Date               0\n",
       "Reported Time               0\n",
       "Initial Call Type           0\n",
       "Final Call Type             0\n",
       "Call Type                   0\n",
       "Arrest Flag                 0\n",
       "Frisk Flag                  0\n",
       "Precinct                    0\n",
       "Sector                      0\n",
       "Beat                        0\n",
       "dtype: int64"
      ]
     },
     "execution_count": 28,
     "metadata": {},
     "output_type": "execute_result"
    }
   ],
   "source": [
    "df_ts.isna().sum() #if we get a result: df_ts.dropna(inplace=True)"
   ]
  },
  {
   "cell_type": "markdown",
   "metadata": {},
   "source": [
    "Simplify relevant columns"
   ]
  },
  {
   "cell_type": "markdown",
   "metadata": {},
   "source": [
    "We determined the column 'Stop Resolution' to be the best way to determine if a Terry Stop resulted in an outcome that could be considered significant or life-altering.\n",
    "\n",
    "After research, we concluded that 'Field Contact' and 'Citation / Infraction' represented x% of results within the column and could also be considered insignificant. In comparison, 'Offense Report', 'Arrest', and 'Referred for Prosecution' represented x% of data and each represent a life-altering outcome for the individual stopped."
   ]
  },
  {
   "cell_type": "code",
   "execution_count": 29,
   "metadata": {
    "scrolled": true
   },
   "outputs": [
    {
     "data": {
      "text/plain": [
       "Field Contact               19048\n",
       "Offense Report              15657\n",
       "Arrest                      11685\n",
       "Referred for Prosecution      728\n",
       "Citation / Infraction         179\n",
       "Name: Stop Resolution, dtype: int64"
      ]
     },
     "execution_count": 29,
     "metadata": {},
     "output_type": "execute_result"
    }
   ],
   "source": [
    "df_ts[\"Stop Resolution\"].value_counts()"
   ]
  },
  {
   "cell_type": "code",
   "execution_count": 30,
   "metadata": {},
   "outputs": [
    {
     "data": {
      "text/plain": [
       "{'Field Contact': 19048,\n",
       " 'Offense Report': 15657,\n",
       " 'Arrest': 11685,\n",
       " 'Referred for Prosecution': 728,\n",
       " 'Citation / Infraction': 179}"
      ]
     },
     "execution_count": 30,
     "metadata": {},
     "output_type": "execute_result"
    }
   ],
   "source": [
    "df_ts[\"Stop Resolution\"].value_counts().to_dict()"
   ]
  },
  {
   "cell_type": "code",
   "execution_count": 31,
   "metadata": {},
   "outputs": [],
   "source": [
    "# map to column\n",
    "\n",
    "df_ts['Stop Resolution'] = df_ts['Stop Resolution'].map({'Field Contact': 0,\n",
    "                                                   'Offense Report': 1,\n",
    "                                                   'Arrest': 1,\n",
    "                                                   'Referred for Prosecution': 1,\n",
    "                                                   'Citation / Infraction': 0})\n"
   ]
  },
  {
   "cell_type": "code",
   "execution_count": 32,
   "metadata": {},
   "outputs": [],
   "source": [
    "# Classification, dealing with null values\n",
    "# Train test\n",
    "# Data cleaning\n",
    "# Convert training data to numeric information\n",
    "# FSM - first simple model (throw data in and see if it works)"
   ]
  },
  {
   "cell_type": "code",
   "execution_count": 33,
   "metadata": {},
   "outputs": [
    {
     "data": {
      "text/plain": [
       "None                                    32565\n",
       "-                                       11935\n",
       "Lethal Cutting Instrument                1482\n",
       "Knife/Cutting/Stabbing Instrument         636\n",
       "Handgun                                   291\n",
       "Firearm Other                             100\n",
       "Blunt Object/Striking Implement            86\n",
       "Club, Blackjack, Brass Knuckles            49\n",
       "Firearm                                    38\n",
       "Mace/Pepper Spray                          28\n",
       "Other Firearm                              23\n",
       "Firearm (unk type)                         15\n",
       "Taser/Stun Gun                             10\n",
       "Club                                        9\n",
       "Rifle                                       7\n",
       "Fire/Incendiary Device                      7\n",
       "None/Not Applicable                         7\n",
       "Shotgun                                     3\n",
       "Personal Weapons (hands, feet, etc.)        2\n",
       "Automatic Handgun                           2\n",
       "Brass Knuckles                              1\n",
       "Blackjack                                   1\n",
       "Name: Weapon Type, dtype: int64"
      ]
     },
     "execution_count": 33,
     "metadata": {},
     "output_type": "execute_result"
    }
   ],
   "source": [
    "df_ts['Weapon Type'].value_counts()"
   ]
  },
  {
   "cell_type": "code",
   "execution_count": 34,
   "metadata": {},
   "outputs": [
    {
     "data": {
      "text/plain": [
       "{'None': 32565,\n",
       " '-': 11935,\n",
       " 'Lethal Cutting Instrument': 1482,\n",
       " 'Knife/Cutting/Stabbing Instrument': 636,\n",
       " 'Handgun': 291,\n",
       " 'Firearm Other': 100,\n",
       " 'Blunt Object/Striking Implement': 86,\n",
       " 'Club, Blackjack, Brass Knuckles': 49,\n",
       " 'Firearm': 38,\n",
       " 'Mace/Pepper Spray': 28,\n",
       " 'Other Firearm': 23,\n",
       " 'Firearm (unk type)': 15,\n",
       " 'Taser/Stun Gun': 10,\n",
       " 'Club': 9,\n",
       " 'Rifle': 7,\n",
       " 'Fire/Incendiary Device': 7,\n",
       " 'None/Not Applicable': 7,\n",
       " 'Shotgun': 3,\n",
       " 'Personal Weapons (hands, feet, etc.)': 2,\n",
       " 'Automatic Handgun': 2,\n",
       " 'Brass Knuckles': 1,\n",
       " 'Blackjack': 1}"
      ]
     },
     "execution_count": 34,
     "metadata": {},
     "output_type": "execute_result"
    }
   ],
   "source": [
    "df_ts[\"Weapon Type\"].value_counts().to_dict()"
   ]
  },
  {
   "cell_type": "code",
   "execution_count": 35,
   "metadata": {},
   "outputs": [],
   "source": [
    "df_ts['Weapon Type'] = df_ts['Weapon Type'].map({'None': 'NA',\n",
    "                                           '-': 'NA',\n",
    "                                           'Lethal Cutting Instrument': 'Non-Firearm',\n",
    "                                           'Knife/Cutting/Stabbing Instrument': 'Non-Firearm',\n",
    "                                           'Handgun': 'Firearm',\n",
    "                                           'Firearm Other': 'Firearm',\n",
    "                                           'Blunt Object/Striking Implement': 'Non-Firearm',\n",
    "                                           'Club, Blackjack, Brass Knuckles': 'Non-Firearm',\n",
    "                                           'Firearm': 'Firearm',\n",
    "                                           'Mace/Pepper Spray': 'Non-Firearm',\n",
    "                                           'Other Firearm': 'Firearm',\n",
    "                                           'Firearm (unk type)': 'Firearm',\n",
    "                                           'Taser/Stun Gun': 'Non-Firearm',\n",
    "                                           'Club': 'Non-Firearm',\n",
    "                                           'Fire/Incendiary Device': 'Non-Firearm',\n",
    "                                           'None/Not Applicable': 'NA',\n",
    "                                           'Rifle': 'Firearm',\n",
    "                                           'Shotgun': 'Firearm',\n",
    "                                           'Personal Weapons (hands, feet, etc.)': 'Non-Firearm',\n",
    "                                           'Automatic Handgun': 'Firearm',\n",
    "                                           'Blackjack': 'Non-Firearm',\n",
    "                                           'Brass Knuckles': 'Non-Firearm'})"
   ]
  },
  {
   "cell_type": "code",
   "execution_count": 36,
   "metadata": {},
   "outputs": [],
   "source": [
    "# change column datatypes"
   ]
  },
  {
   "cell_type": "code",
   "execution_count": 37,
   "metadata": {},
   "outputs": [],
   "source": [
    "# potentially create new dataframe with only relevant columns\n",
    "\n",
    "# relevant_cols = df_ts[['Arrest Flag','Weapon Type','Frisk Flag','Precinct','Officer Gender','Subject Perceived Gender','Subject Perceived Race']]"
   ]
  },
  {
   "cell_type": "code",
   "execution_count": 38,
   "metadata": {},
   "outputs": [],
   "source": [
    "# how else do we need to modify these columns: 'Weapon Type','Frisk Flag','Precinct','Officer Gender','Subject Perceived Gender','Subject Perceived Race'"
   ]
  },
  {
   "cell_type": "code",
   "execution_count": 39,
   "metadata": {},
   "outputs": [],
   "source": [
    "df_ts.drop(columns=['Subject Age Group','Subject ID','GO / SC Num','Terry Stop ID','Officer ID','Officer YOB','Officer Race',\n",
    "                'Reported Date','Reported Time','Initial Call Type','Final Call Type','Arrest Flag','Call Type','Sector','Beat'], axis=1, inplace=True)"
   ]
  },
  {
   "cell_type": "code",
   "execution_count": 40,
   "metadata": {},
   "outputs": [
    {
     "name": "stdout",
     "output_type": "stream",
     "text": [
      "<class 'pandas.core.frame.DataFrame'>\n",
      "RangeIndex: 47297 entries, 0 to 47296\n",
      "Data columns (total 7 columns):\n",
      " #   Column                    Non-Null Count  Dtype \n",
      "---  ------                    --------------  ----- \n",
      " 0   Stop Resolution           47297 non-null  int64 \n",
      " 1   Weapon Type               47297 non-null  object\n",
      " 2   Officer Gender            47297 non-null  object\n",
      " 3   Subject Perceived Race    47297 non-null  object\n",
      " 4   Subject Perceived Gender  47297 non-null  object\n",
      " 5   Frisk Flag                47297 non-null  object\n",
      " 6   Precinct                  47297 non-null  object\n",
      "dtypes: int64(1), object(6)\n",
      "memory usage: 2.5+ MB\n"
     ]
    }
   ],
   "source": [
    "df_ts.info()"
   ]
  },
  {
   "cell_type": "markdown",
   "metadata": {},
   "source": [
    "## Train Test Split"
   ]
  },
  {
   "cell_type": "code",
   "execution_count": 41,
   "metadata": {},
   "outputs": [],
   "source": [
    "X = df_ts.loc[:, ['Weapon Type','Frisk Flag','Precinct','Officer Gender','Subject Perceived Gender',\n",
    "                  'Subject Perceived Race']]\n",
    "y = df_ts.loc[:, 'Stop Resolution'] #see Smote\n",
    "\n",
    "X_train, X_test, y_train, y_test = train_test_split(X, y, test_size = 0.3,random_state=42)"
   ]
  },
  {
   "cell_type": "code",
   "execution_count": 42,
   "metadata": {},
   "outputs": [],
   "source": [
    "# use ohe on training data\n",
    "ohe = OneHotEncoder()\n",
    "\n",
    "ohe.fit(X_train)\n",
    "X_train_ohe = ohe.transform(X_train).toarray()\n",
    "X_test_ohe = ohe.transform(X_test).toarray()\n",
    "\n",
    "# create dataframe with training and testing data\n",
    "ohe_df1 = pd.DataFrame(X_train_ohe, columns=ohe.get_feature_names(X_train.columns))\n",
    "ohe_df2 = pd.DataFrame(X_test_ohe, columns=ohe.get_feature_names(X_test.columns))\n",
    "ohe_df = pd.concat([ohe_df1,ohe_df2])"
   ]
  },
  {
   "cell_type": "markdown",
   "metadata": {},
   "source": [
    "## Create Logistic Regression Model"
   ]
  },
  {
   "cell_type": "code",
   "execution_count": 43,
   "metadata": {},
   "outputs": [
    {
     "name": "stderr",
     "output_type": "stream",
     "text": [
      "/opt/anaconda3/envs/learn-env/lib/python3.6/site-packages/sklearn/linear_model/_logistic.py:764: ConvergenceWarning: lbfgs failed to converge (status=1):\n",
      "STOP: TOTAL NO. of ITERATIONS REACHED LIMIT.\n",
      "\n",
      "Increase the number of iterations (max_iter) or scale the data as shown in:\n",
      "    https://scikit-learn.org/stable/modules/preprocessing.html\n",
      "Please also refer to the documentation for alternative solver options:\n",
      "    https://scikit-learn.org/stable/modules/linear_model.html#logistic-regression\n",
      "  extra_warning_msg=_LOGISTIC_SOLVER_CONVERGENCE_MSG)\n"
     ]
    },
    {
     "data": {
      "text/plain": [
       "'Logistic Regression Accuracy: '"
      ]
     },
     "metadata": {},
     "output_type": "display_data"
    },
    {
     "data": {
      "text/plain": [
       "78.61874559548978"
      ]
     },
     "metadata": {},
     "output_type": "display_data"
    },
    {
     "data": {
      "text/plain": [
       "'%'"
      ]
     },
     "metadata": {},
     "output_type": "display_data"
    },
    {
     "name": "stdout",
     "output_type": "stream",
     "text": [
      "Precision: 0.748813\n",
      "Recall: 0.960029\n",
      "F1 score: 0.841368\n"
     ]
    }
   ],
   "source": [
    "lr = LogisticRegression()\n",
    "lr.fit(X_train_ohe, y_train)\n",
    "y_pred = lr.predict(X_test_ohe)\n",
    "\n",
    "# accuracy check - (tp + tn) / (p + n)\n",
    "display('Logistic Regression Accuracy: ', accuracy_score(y_test, y_pred)*100,'%')\n",
    "\n",
    "# precision - tp / (tp + fp)\n",
    "precision = precision_score(y_test, y_pred)\n",
    "print('Precision: %f' % precision)\n",
    "\n",
    "# recall - tp / (tp + fn)\n",
    "recall = recall_score(y_test, y_pred)\n",
    "print('Recall: %f' % recall)\n",
    "\n",
    "# f1 - 2 tp / (2 tp + fp + fn)\n",
    "f1 = f1_score(y_test, y_pred)\n",
    "print('F1 score: %f' % f1)\n",
    "\n",
    "# classification report\n",
    "# display(classification_report(y_test, y_pred))\n",
    "\n",
    "# true test is confusion matrix due to 0 across, now that's changed once target did\n",
    "\n"
   ]
  },
  {
   "cell_type": "markdown",
   "metadata": {},
   "source": [
    "## Iterate on Logistic Regression Model"
   ]
  },
  {
   "cell_type": "code",
   "execution_count": null,
   "metadata": {},
   "outputs": [],
   "source": [
    "c_accuracy = {}\n",
    "\n",
    "kf = KFold(n_splits=4)\n",
    "cs = np.linspace(1,11,100)\n",
    "\n",
    "for c in cs:\n",
    "    \n",
    "    mean_accuracy = []\n",
    "    \n",
    "    for train_ind, val_ind in kf.split(X_train, y_train):\n",
    "        \n",
    "        X_tt, y_tt = X_train.iloc[train_ind], y_train.iloc[train_ind]\n",
    "        X_val, y_val = X_train.iloc[val_ind], y_train.iloc[val_ind]\n",
    "        \n",
    "        ss = StandardScaler()\n",
    "        \n",
    "        X_tt = ss.fit_transform(X_tt)\n",
    "        X_val = ss.transform(X_val)\n",
    "        \n",
    "        log_reg = LogisticRegression(C=c, solver='lbfgs', max_iter=400)\n",
    "        \n",
    "        log_reg.fit(X_tt, y_tt)\n",
    "        \n",
    "        mean_accuracy.append(log_reg.score(X_val, y_val))\n",
    "\n",
    "    c_accuracy[c] = np.mean(mean_accuracy)"
   ]
  },
  {
   "cell_type": "code",
   "execution_count": null,
   "metadata": {},
   "outputs": [],
   "source": [
    "sorted(c_accuracy.items(), key=lambda kv: kv[1], reverse=True)[:10]"
   ]
  },
  {
   "cell_type": "code",
   "execution_count": null,
   "metadata": {},
   "outputs": [],
   "source": [
    "ss = StandardScaler()\n",
    "\n",
    "X_train_sc = ss.fit_transform(X_train)\n",
    "log_reg = LogisticRegression(C=2, solver='lbfgs', max_iter=5000)\n",
    "log_reg.fit(X_train_sc, y_train)\n",
    "\n",
    "y_hat = log_reg.predict(X_train_sc)"
   ]
  },
  {
   "cell_type": "code",
   "execution_count": null,
   "metadata": {},
   "outputs": [],
   "source": [
    "fig, ax = plt.subplots()\n",
    "cm = confusion_matrix(y_train, y_hat)\n",
    "sns.heatmap(cm, ax=ax, annot=True,  square=True, \n",
    "            cbar=False, cmap=\"coolwarm\", fmt='g',\n",
    "            xticklabels=['B', 'M'],yticklabels=['B', 'M'] )\n",
    "\n",
    "ax.set_xlabel('Predicted', fontdict={'size': 15})\n",
    "ax.set_ylabel('True', fontdict={'size': 15})\n",
    "ax.set_title('Logistic Regression: C2', fontdict={'size': 15})"
   ]
  },
  {
   "cell_type": "code",
   "execution_count": null,
   "metadata": {},
   "outputs": [],
   "source": [
    "lr = LogisticRegression(penalty='l1', C=)\n",
    "lr.fit(X_train_ohe, y_train)\n",
    "y_pred = lr.predict(X_test_ohe)\n",
    "\n",
    "\n",
    "\n",
    "# Change regularization via L1 and downtuning of C (address why re overfitting)\n",
    "\n",
    "# accuracy check - (tp + tn) / (p + n)\n",
    "display('Logistic Regression Accuracy: ', accuracy_score(y_test, y_pred)*100,'%')\n",
    "\n",
    "# precision - tp / (tp + fp)\n",
    "precision = precision_score(y_test, y_pred)\n",
    "print('Precision: %f' % precision)\n",
    "\n",
    "# recall - tp / (tp + fn)\n",
    "recall = recall_score(y_test, y_pred)\n",
    "print('Recall: %f' % recall)\n",
    "\n",
    "# f1 - 2 tp / (2 tp + fp + fn)\n",
    "f1 = f1_score(y_test, y_pred)\n",
    "print('F1 score: %f' % f1)\n",
    "\n",
    "# classification report\n",
    "# display(classification_report(y_test, y_pred))\n",
    "\n",
    "# true test is confusion matrix due to 0 across, now that's changed once target did\n",
    "\n"
   ]
  },
  {
   "cell_type": "markdown",
   "metadata": {},
   "source": [
    "## Create Decision Tree Model"
   ]
  },
  {
   "cell_type": "code",
   "execution_count": 22,
   "metadata": {
    "scrolled": true
   },
   "outputs": [
    {
     "data": {
      "text/plain": [
       "DecisionTreeClassifier(max_depth=5)"
      ]
     },
     "execution_count": 22,
     "metadata": {},
     "output_type": "execute_result"
    }
   ],
   "source": [
    "dt = DecisionTreeClassifier(max_depth=5)\n",
    "dt.fit(X_train_ohe, y_train)\n",
    "# dt.score(X_train_ohe, y_train), default accuracy"
   ]
  },
  {
   "cell_type": "code",
   "execution_count": 23,
   "metadata": {
    "scrolled": true
   },
   "outputs": [
    {
     "data": {
      "image/png": "[encoded data removed]",
      "text/plain": [
       "<Figure size 432x288 with 1 Axes>"
      ]
     },
     "metadata": {
      "needs_background": "light"
     },
     "output_type": "display_data"
    }
   ],
   "source": [
    "tree.plot_tree(dt, feature_names=ohe.get_feature_names(), filled=True);"
   ]
  },
  {
   "cell_type": "code",
   "execution_count": null,
   "metadata": {},
   "outputs": [],
   "source": [
    "# predict, pass in for F1 score to compare across models\n",
    "# bring confusion matrix in"
   ]
  },
  {
   "cell_type": "code",
   "execution_count": null,
   "metadata": {},
   "outputs": [],
   "source": []
  },
  {
   "cell_type": "code",
   "execution_count": null,
   "metadata": {},
   "outputs": [],
   "source": []
  },
  {
   "cell_type": "code",
   "execution_count": null,
   "metadata": {},
   "outputs": [],
   "source": []
  },
  {
   "cell_type": "code",
   "execution_count": null,
   "metadata": {},
   "outputs": [],
   "source": []
  },
  {
   "cell_type": "code",
   "execution_count": null,
   "metadata": {},
   "outputs": [],
   "source": []
  },
  {
   "cell_type": "code",
   "execution_count": null,
   "metadata": {},
   "outputs": [],
   "source": []
  },
  {
   "cell_type": "code",
   "execution_count": null,
   "metadata": {},
   "outputs": [],
   "source": []
  },
  {
   "cell_type": "code",
   "execution_count": null,
   "metadata": {},
   "outputs": [],
   "source": []
  },
  {
   "cell_type": "code",
   "execution_count": null,
   "metadata": {},
   "outputs": [],
   "source": [
    "model = build_model(DecisionTreeClassifier(random_state=123), X, y)\n",
    "model3_results = build_model.results\n",
    "\n",
    "\n",
    "def build_model(classifier, predictors, labels):\n",
    "    #Split the data into train and test sets\n",
    "    X_train, X_test, y_train, y_test = train_test_split(X, y, test_size=.20, random_state=123)\n",
    "    \n",
    "    #Scale the data\n",
    "    scaler = MinMaxScaler()\n",
    "    X_train = scaler.fit_transform(X_train)\n",
    "    X_test = scaler.transform(X_test)\n",
    "    \n",
    "    #Create variables that can be called outside function\n",
    "    build_model.X_train = X_train\n",
    "    build_model.X_test = X_test\n",
    "    build_model.y_train = y_train\n",
    "    build_model.y_test = y_test\n",
    "    \n",
    "    #Fit model\n",
    "    model = classifier.fit(X_train, y_train)\n",
    "    score = np.mean(cross_val_score(classifier, X, y, cv=5, scoring='recall'))\n",
    "    \n",
    "    #Create predictions\n",
    "    y_hat_train = model.predict(X_train)\n",
    "    y_hat_test = model.predict(X_test)"
   ]
  }
 ],
 "metadata": {
  "kernelspec": {
   "display_name": "Python 3",
   "language": "python",
   "name": "python3"
  },
  "language_info": {
   "codemirror_mode": {
    "name": "ipython",
    "version": 3
   },
   "file_extension": ".py",
   "mimetype": "text/x-python",
   "name": "python",
   "nbconvert_exporter": "python",
   "pygments_lexer": "ipython3",
   "version": "3.6.12"
  }
 },
 "nbformat": 4,
 "nbformat_minor": 4
}
