{
 "cells": [
  {
   "cell_type": "markdown",
   "metadata": {},
   "source": [
    "![Abolish the Police](images/police-cars-revolving-light.png)"
   ]
  },
  {
   "cell_type": "markdown",
   "metadata": {},
   "source": [
    "# Terry Stop Analysis Project\n",
    "\n",
    "**Author:** Sierra Stanton\n",
    "***"
   ]
  },
  {
   "cell_type": "markdown",
   "metadata": {},
   "source": [
    "## Overview\n",
    "\n",
    "This project analyses records of police reported stops as documented by the Seatlle Police Department for the Supreme Court case Terry v. Ohio.\n",
    "\n",
    "In Terry v. Ohio (Links to an external site.), a landmark Supreme Court case in 1967-8, the court found that a police officer was not in violation of the \"unreasonable search and seizure\" clause of the Fourth Amendment, even though he stopped and frisked a couple of suspects only because their behavior was suspicious. Thus was born the notion of \"reasonable suspicion\", according to which an agent of the police may e.g. temporarily detain a person, even in the absence of clearer evidence that would be required for full-blown arrests etc. Terry Stops are stops made of suspicious drivers."
   ]
  },
  {
   "cell_type": "markdown",
   "metadata": {},
   "source": [
    "## Problem\n",
    "\n",
    "Data.gov has released a public dataset representing Terry Stops in Seattle, Washington, and the various factors that might influence both the original stop and the outcome of said stop.\n",
    "\n",
    "We'll build a classifier to help predict whether an arrest was made after a Terry Stop, given various factors like the presence of weapons, the subject's race and gender, and more.\n",
    "\n",
    "This informative data can not only help us predict whether an arrest would be made based on certain perceived factors, but we'll be able to better evaluate the practice altogether and better understand how perception plays a role in police practices."
   ]
  },
  {
   "cell_type": "markdown",
   "metadata": {},
   "source": [
    "## Data Understanding\n",
    "\n",
    "Data will be used from the following source:\n",
    "* __[Data.gov](https://catalog.data.gov/dataset/terry-stops)__\n",
    "\n",
    "Data.gov's Terry Stops (`Terry_Stops.csv`): this dataset represents records of police reported stops under Terry v. Ohio, 392 U.S. 1 (1968). Each row represents a unique stop and contains perceived demographics of the subject, as reported by the officer making the stop and officer demographics as reported to the Seattle Police Department."
   ]
  },
  {
   "cell_type": "markdown",
   "metadata": {},
   "source": [
    "We'll import packages from a variety of sources to aid in our exploration and modeling of our data."
   ]
  },
  {
   "cell_type": "code",
   "execution_count": 1,
   "metadata": {},
   "outputs": [],
   "source": [
    "# import necessary packages\n",
    "\n",
    "import pandas as pd\n",
    "import numpy as np \n",
    "import matplotlib.pyplot as plt\n",
    "import seaborn as sns\n",
    "from sklearn.preprocessing import StandardScaler, LabelEncoder, OneHotEncoder, StandardScaler\n",
    "from sklearn.linear_model import LogisticRegression\n",
    "from sklearn.metrics import confusion_matrix, classification_report\n",
    "from sklearn.model_selection import train_test_split, cross_val_score, GridSearchCV, KFold\n",
    "from sklearn.tree import DecisionTreeClassifier, plot_tree\n",
    "from sklearn.neighbors import KNeighborsClassifier"
   ]
  },
  {
   "cell_type": "markdown",
   "metadata": {},
   "source": [
    "## Import: Terry Stop Data"
   ]
  },
  {
   "cell_type": "markdown",
   "metadata": {},
   "source": [
    "Let's ensure we import the necessary data set and begin an exploration of our records."
   ]
  },
  {
   "cell_type": "code",
   "execution_count": 2,
   "metadata": {
    "scrolled": false
   },
   "outputs": [
    {
     "data": {
      "text/html": [
       "<div>\n",
       "<style scoped>\n",
       "    .dataframe tbody tr th:only-of-type {\n",
       "        vertical-align: middle;\n",
       "    }\n",
       "\n",
       "    .dataframe tbody tr th {\n",
       "        vertical-align: top;\n",
       "    }\n",
       "\n",
       "    .dataframe thead th {\n",
       "        text-align: right;\n",
       "    }\n",
       "</style>\n",
       "<table border=\"1\" class=\"dataframe\">\n",
       "  <thead>\n",
       "    <tr style=\"text-align: right;\">\n",
       "      <th></th>\n",
       "      <th>Subject Age Group</th>\n",
       "      <th>Subject ID</th>\n",
       "      <th>GO / SC Num</th>\n",
       "      <th>Terry Stop ID</th>\n",
       "      <th>Stop Resolution</th>\n",
       "      <th>Weapon Type</th>\n",
       "      <th>Officer ID</th>\n",
       "      <th>Officer YOB</th>\n",
       "      <th>Officer Gender</th>\n",
       "      <th>Officer Race</th>\n",
       "      <th>...</th>\n",
       "      <th>Reported Time</th>\n",
       "      <th>Initial Call Type</th>\n",
       "      <th>Final Call Type</th>\n",
       "      <th>Call Type</th>\n",
       "      <th>Officer Squad</th>\n",
       "      <th>Arrest Flag</th>\n",
       "      <th>Frisk Flag</th>\n",
       "      <th>Precinct</th>\n",
       "      <th>Sector</th>\n",
       "      <th>Beat</th>\n",
       "    </tr>\n",
       "  </thead>\n",
       "  <tbody>\n",
       "    <tr>\n",
       "      <th>0</th>\n",
       "      <td>-</td>\n",
       "      <td>-1</td>\n",
       "      <td>20140000120677</td>\n",
       "      <td>92317</td>\n",
       "      <td>Arrest</td>\n",
       "      <td>None</td>\n",
       "      <td>7500</td>\n",
       "      <td>1984</td>\n",
       "      <td>M</td>\n",
       "      <td>Black or African American</td>\n",
       "      <td>...</td>\n",
       "      <td>11:32:00</td>\n",
       "      <td>-</td>\n",
       "      <td>-</td>\n",
       "      <td>-</td>\n",
       "      <td>SOUTH PCT 1ST W - ROBERT</td>\n",
       "      <td>N</td>\n",
       "      <td>N</td>\n",
       "      <td>South</td>\n",
       "      <td>O</td>\n",
       "      <td>O2</td>\n",
       "    </tr>\n",
       "    <tr>\n",
       "      <th>1</th>\n",
       "      <td>-</td>\n",
       "      <td>-1</td>\n",
       "      <td>20150000001463</td>\n",
       "      <td>28806</td>\n",
       "      <td>Field Contact</td>\n",
       "      <td>None</td>\n",
       "      <td>5670</td>\n",
       "      <td>1965</td>\n",
       "      <td>M</td>\n",
       "      <td>White</td>\n",
       "      <td>...</td>\n",
       "      <td>07:59:00</td>\n",
       "      <td>-</td>\n",
       "      <td>-</td>\n",
       "      <td>-</td>\n",
       "      <td>NaN</td>\n",
       "      <td>N</td>\n",
       "      <td>N</td>\n",
       "      <td>-</td>\n",
       "      <td>-</td>\n",
       "      <td>-</td>\n",
       "    </tr>\n",
       "    <tr>\n",
       "      <th>2</th>\n",
       "      <td>-</td>\n",
       "      <td>-1</td>\n",
       "      <td>20150000001516</td>\n",
       "      <td>29599</td>\n",
       "      <td>Field Contact</td>\n",
       "      <td>None</td>\n",
       "      <td>4844</td>\n",
       "      <td>1961</td>\n",
       "      <td>M</td>\n",
       "      <td>White</td>\n",
       "      <td>...</td>\n",
       "      <td>19:12:00</td>\n",
       "      <td>-</td>\n",
       "      <td>-</td>\n",
       "      <td>-</td>\n",
       "      <td>NaN</td>\n",
       "      <td>N</td>\n",
       "      <td>-</td>\n",
       "      <td>-</td>\n",
       "      <td>-</td>\n",
       "      <td>-</td>\n",
       "    </tr>\n",
       "    <tr>\n",
       "      <th>3</th>\n",
       "      <td>-</td>\n",
       "      <td>-1</td>\n",
       "      <td>20150000001670</td>\n",
       "      <td>32260</td>\n",
       "      <td>Field Contact</td>\n",
       "      <td>None</td>\n",
       "      <td>7539</td>\n",
       "      <td>1963</td>\n",
       "      <td>M</td>\n",
       "      <td>White</td>\n",
       "      <td>...</td>\n",
       "      <td>04:55:00</td>\n",
       "      <td>-</td>\n",
       "      <td>-</td>\n",
       "      <td>-</td>\n",
       "      <td>NaN</td>\n",
       "      <td>N</td>\n",
       "      <td>N</td>\n",
       "      <td>-</td>\n",
       "      <td>-</td>\n",
       "      <td>-</td>\n",
       "    </tr>\n",
       "    <tr>\n",
       "      <th>4</th>\n",
       "      <td>-</td>\n",
       "      <td>-1</td>\n",
       "      <td>20150000001739</td>\n",
       "      <td>33155</td>\n",
       "      <td>Field Contact</td>\n",
       "      <td>None</td>\n",
       "      <td>6973</td>\n",
       "      <td>1977</td>\n",
       "      <td>M</td>\n",
       "      <td>White</td>\n",
       "      <td>...</td>\n",
       "      <td>00:41:00</td>\n",
       "      <td>-</td>\n",
       "      <td>-</td>\n",
       "      <td>-</td>\n",
       "      <td>NaN</td>\n",
       "      <td>N</td>\n",
       "      <td>N</td>\n",
       "      <td>-</td>\n",
       "      <td>-</td>\n",
       "      <td>-</td>\n",
       "    </tr>\n",
       "  </tbody>\n",
       "</table>\n",
       "<p>5 rows × 23 columns</p>\n",
       "</div>"
      ],
      "text/plain": [
       "  Subject Age Group  Subject ID     GO / SC Num  Terry Stop ID  \\\n",
       "0                 -          -1  20140000120677          92317   \n",
       "1                 -          -1  20150000001463          28806   \n",
       "2                 -          -1  20150000001516          29599   \n",
       "3                 -          -1  20150000001670          32260   \n",
       "4                 -          -1  20150000001739          33155   \n",
       "\n",
       "  Stop Resolution Weapon Type Officer ID  Officer YOB Officer Gender  \\\n",
       "0          Arrest        None     7500           1984              M   \n",
       "1   Field Contact        None     5670           1965              M   \n",
       "2   Field Contact        None     4844           1961              M   \n",
       "3   Field Contact        None     7539           1963              M   \n",
       "4   Field Contact        None     6973           1977              M   \n",
       "\n",
       "                Officer Race  ... Reported Time Initial Call Type  \\\n",
       "0  Black or African American  ...      11:32:00                 -   \n",
       "1                      White  ...      07:59:00                 -   \n",
       "2                      White  ...      19:12:00                 -   \n",
       "3                      White  ...      04:55:00                 -   \n",
       "4                      White  ...      00:41:00                 -   \n",
       "\n",
       "  Final Call Type Call Type             Officer Squad Arrest Flag Frisk Flag  \\\n",
       "0               -         -  SOUTH PCT 1ST W - ROBERT           N          N   \n",
       "1               -         -                       NaN           N          N   \n",
       "2               -         -                       NaN           N          -   \n",
       "3               -         -                       NaN           N          N   \n",
       "4               -         -                       NaN           N          N   \n",
       "\n",
       "  Precinct  Sector    Beat  \n",
       "0    South  O       O2      \n",
       "1        -       -       -  \n",
       "2        -       -       -  \n",
       "3        -       -       -  \n",
       "4        -       -       -  \n",
       "\n",
       "[5 rows x 23 columns]"
      ]
     },
     "execution_count": 2,
     "metadata": {},
     "output_type": "execute_result"
    }
   ],
   "source": [
    "# import Terry_Stops.csv from our data folder\n",
    "\n",
    "df_ts = pd.read_csv('data/Terry_Stops.csv')\n",
    "df_ts.head()"
   ]
  },
  {
   "cell_type": "code",
   "execution_count": 3,
   "metadata": {},
   "outputs": [
    {
     "name": "stdout",
     "output_type": "stream",
     "text": [
      "<class 'pandas.core.frame.DataFrame'>\n",
      "RangeIndex: 47297 entries, 0 to 47296\n",
      "Data columns (total 23 columns):\n",
      " #   Column                    Non-Null Count  Dtype \n",
      "---  ------                    --------------  ----- \n",
      " 0   Subject Age Group         47297 non-null  object\n",
      " 1   Subject ID                47297 non-null  int64 \n",
      " 2   GO / SC Num               47297 non-null  int64 \n",
      " 3   Terry Stop ID             47297 non-null  int64 \n",
      " 4   Stop Resolution           47297 non-null  object\n",
      " 5   Weapon Type               47297 non-null  object\n",
      " 6   Officer ID                47297 non-null  object\n",
      " 7   Officer YOB               47297 non-null  int64 \n",
      " 8   Officer Gender            47297 non-null  object\n",
      " 9   Officer Race              47297 non-null  object\n",
      " 10  Subject Perceived Race    47297 non-null  object\n",
      " 11  Subject Perceived Gender  47297 non-null  object\n",
      " 12  Reported Date             47297 non-null  object\n",
      " 13  Reported Time             47297 non-null  object\n",
      " 14  Initial Call Type         47297 non-null  object\n",
      " 15  Final Call Type           47297 non-null  object\n",
      " 16  Call Type                 47297 non-null  object\n",
      " 17  Officer Squad             46693 non-null  object\n",
      " 18  Arrest Flag               47297 non-null  object\n",
      " 19  Frisk Flag                47297 non-null  object\n",
      " 20  Precinct                  47297 non-null  object\n",
      " 21  Sector                    47297 non-null  object\n",
      " 22  Beat                      47297 non-null  object\n",
      "dtypes: int64(4), object(19)\n",
      "memory usage: 8.3+ MB\n"
     ]
    }
   ],
   "source": [
    "df_ts.info()"
   ]
  },
  {
   "cell_type": "markdown",
   "metadata": {},
   "source": [
    "## Data Preparation"
   ]
  },
  {
   "cell_type": "markdown",
   "metadata": {},
   "source": [
    "From our initial exploration above, we can see that there are many relevant factors to analyze why a terry stop was made, the nature of said stop, and the outcome. Please consult the __[data dictionary](https://data.seattle.gov/Public-Safety/Terry-Stops/28ny-9ts8)__ for additional information on individual columns.\n",
    "\n",
    "### Clean Up: Terry Stop Data\n",
    "\n",
    "1. Remove any null values that can skew our analysis\n",
    "2. Investigate columns in order to isolate the most relevant\n",
    "3. Identify and make our target variable binary"
   ]
  },
  {
   "cell_type": "markdown",
   "metadata": {},
   "source": [
    "### Remove null values"
   ]
  },
  {
   "cell_type": "code",
   "execution_count": 4,
   "metadata": {},
   "outputs": [
    {
     "data": {
      "text/plain": [
       "Subject Age Group             0\n",
       "Subject ID                    0\n",
       "GO / SC Num                   0\n",
       "Terry Stop ID                 0\n",
       "Stop Resolution               0\n",
       "Weapon Type                   0\n",
       "Officer ID                    0\n",
       "Officer YOB                   0\n",
       "Officer Gender                0\n",
       "Officer Race                  0\n",
       "Subject Perceived Race        0\n",
       "Subject Perceived Gender      0\n",
       "Reported Date                 0\n",
       "Reported Time                 0\n",
       "Initial Call Type             0\n",
       "Final Call Type               0\n",
       "Call Type                     0\n",
       "Officer Squad               604\n",
       "Arrest Flag                   0\n",
       "Frisk Flag                    0\n",
       "Precinct                      0\n",
       "Sector                        0\n",
       "Beat                          0\n",
       "dtype: int64"
      ]
     },
     "execution_count": 4,
     "metadata": {},
     "output_type": "execute_result"
    }
   ],
   "source": [
    "# identify columns with null values\n",
    "\n",
    "df_ts.isna().sum()"
   ]
  },
  {
   "cell_type": "code",
   "execution_count": 5,
   "metadata": {},
   "outputs": [
    {
     "data": {
      "text/plain": [
       "TRAINING - FIELD TRAINING SQUAD                        5114\n",
       "WEST PCT 1ST W - DAVID/MARY                            1551\n",
       "WEST PCT 2ND W - D/M RELIEF                            1020\n",
       "SOUTHWEST PCT 2ND W - FRANK                             970\n",
       "NORTH PCT 2ND WATCH - NORTH BEATS                       885\n",
       "                                                       ... \n",
       "HR - BLEA - ACADEMY RECRUITS                              1\n",
       "COMM - INTERNET AND TELEPHONE REPORTING (ITRU)            1\n",
       "COMMUNITY OUTREACH - YOUTH VIOLENCE -SCHOOLS DETAIL       1\n",
       "DV SQUAD D - ORDER SERVICE                                1\n",
       "SOUTHWEST PCT OPS - BURG/THEFT                            1\n",
       "Name: Officer Squad, Length: 172, dtype: int64"
      ]
     },
     "execution_count": 5,
     "metadata": {},
     "output_type": "execute_result"
    }
   ],
   "source": [
    "# investigate column with null values to ensure it's not especially relevant to our analysis\n",
    "\n",
    "df_ts['Officer Squad'].value_counts()"
   ]
  },
  {
   "cell_type": "markdown",
   "metadata": {},
   "source": [
    "While interesting, we can conclude this column isn't central to our analysis predicting arrests and can be removed."
   ]
  },
  {
   "cell_type": "code",
   "execution_count": 6,
   "metadata": {},
   "outputs": [],
   "source": [
    "# delete column with null values\n",
    "\n",
    "df_ts.drop(columns=[\"Officer Squad\"], inplace=True)"
   ]
  },
  {
   "cell_type": "markdown",
   "metadata": {},
   "source": [
    "### Ivestigate and simplify relevant columns, make our target variable binary"
   ]
  },
  {
   "cell_type": "code",
   "execution_count": 7,
   "metadata": {
    "scrolled": true
   },
   "outputs": [
    {
     "data": {
      "text/plain": [
       "count    47297.000000\n",
       "mean      1982.969766\n",
       "std          9.083073\n",
       "min       1900.000000\n",
       "25%       1978.000000\n",
       "50%       1985.000000\n",
       "75%       1990.000000\n",
       "max       1998.000000\n",
       "Name: Officer YOB, dtype: float64"
      ]
     },
     "execution_count": 7,
     "metadata": {},
     "output_type": "execute_result"
    }
   ],
   "source": [
    "df_ts['Officer YOB'].describe()"
   ]
  },
  {
   "cell_type": "code",
   "execution_count": 8,
   "metadata": {
    "scrolled": true
   },
   "outputs": [
    {
     "data": {
      "text/plain": [
       "None                                    32565\n",
       "-                                       11935\n",
       "Lethal Cutting Instrument                1482\n",
       "Knife/Cutting/Stabbing Instrument         636\n",
       "Handgun                                   291\n",
       "Firearm Other                             100\n",
       "Blunt Object/Striking Implement            86\n",
       "Club, Blackjack, Brass Knuckles            49\n",
       "Firearm                                    38\n",
       "Mace/Pepper Spray                          28\n",
       "Other Firearm                              23\n",
       "Firearm (unk type)                         15\n",
       "Taser/Stun Gun                             10\n",
       "Club                                        9\n",
       "Fire/Incendiary Device                      7\n",
       "Rifle                                       7\n",
       "None/Not Applicable                         7\n",
       "Shotgun                                     3\n",
       "Automatic Handgun                           2\n",
       "Personal Weapons (hands, feet, etc.)        2\n",
       "Blackjack                                   1\n",
       "Brass Knuckles                              1\n",
       "Name: Weapon Type, dtype: int64"
      ]
     },
     "execution_count": 8,
     "metadata": {},
     "output_type": "execute_result"
    }
   ],
   "source": [
    "df_ts['Weapon Type'].value_counts()"
   ]
  },
  {
   "cell_type": "code",
   "execution_count": 9,
   "metadata": {},
   "outputs": [
    {
     "data": {
      "text/plain": [
       "White                            35711\n",
       "Hispanic or Latino                2748\n",
       "Two or More Races                 2662\n",
       "Asian                             2027\n",
       "Black or African American         1885\n",
       "Not Specified                     1456\n",
       "Nat Hawaiian/Oth Pac Islander      455\n",
       "American Indian/Alaska Native      318\n",
       "Unknown                             35\n",
       "Name: Officer Race, dtype: int64"
      ]
     },
     "execution_count": 9,
     "metadata": {},
     "output_type": "execute_result"
    }
   ],
   "source": [
    "df_ts['Officer Race'].value_counts()"
   ]
  },
  {
   "cell_type": "code",
   "execution_count": 10,
   "metadata": {},
   "outputs": [
    {
     "data": {
      "text/plain": [
       "White                                        23101\n",
       "Black or African American                    14077\n",
       "Unknown                                       2636\n",
       "-                                             1878\n",
       "Hispanic                                      1684\n",
       "Asian                                         1541\n",
       "American Indian or Alaska Native              1362\n",
       "Multi-Racial                                   809\n",
       "Other                                          152\n",
       "Native Hawaiian or Other Pacific Islander       57\n",
       "Name: Subject Perceived Race, dtype: int64"
      ]
     },
     "execution_count": 10,
     "metadata": {},
     "output_type": "execute_result"
    }
   ],
   "source": [
    "df_ts['Subject Perceived Race'].value_counts()"
   ]
  },
  {
   "cell_type": "code",
   "execution_count": 9,
   "metadata": {},
   "outputs": [
    {
     "data": {
      "text/plain": [
       "M    41854\n",
       "F     5414\n",
       "N       29\n",
       "Name: Officer Gender, dtype: int64"
      ]
     },
     "execution_count": 9,
     "metadata": {},
     "output_type": "execute_result"
    }
   ],
   "source": [
    "df_ts['Officer Gender'].value_counts()"
   ]
  },
  {
   "cell_type": "code",
   "execution_count": 10,
   "metadata": {},
   "outputs": [
    {
     "data": {
      "text/plain": [
       "N    36209\n",
       "Y    10610\n",
       "-      478\n",
       "Name: Frisk Flag, dtype: int64"
      ]
     },
     "execution_count": 10,
     "metadata": {},
     "output_type": "execute_result"
    }
   ],
   "source": [
    "df_ts['Frisk Flag'].value_counts()"
   ]
  },
  {
   "cell_type": "code",
   "execution_count": 11,
   "metadata": {},
   "outputs": [
    {
     "data": {
      "text/plain": [
       "West         11464\n",
       "North        10403\n",
       "-             9857\n",
       "East          6223\n",
       "South         5665\n",
       "Southwest     2320\n",
       "SouthWest     1111\n",
       "Unknown        200\n",
       "OOJ             33\n",
       "FK ERROR        21\n",
       "Name: Precinct, dtype: int64"
      ]
     },
     "execution_count": 11,
     "metadata": {},
     "output_type": "execute_result"
    }
   ],
   "source": [
    "df_ts['Precinct'].value_counts()"
   ]
  },
  {
   "cell_type": "code",
   "execution_count": 12,
   "metadata": {},
   "outputs": [
    {
     "data": {
      "text/plain": [
       "Field Contact               19048\n",
       "Offense Report              15657\n",
       "Arrest                      11685\n",
       "Referred for Prosecution      728\n",
       "Citation / Infraction         179\n",
       "Name: Stop Resolution, dtype: int64"
      ]
     },
     "execution_count": 12,
     "metadata": {},
     "output_type": "execute_result"
    }
   ],
   "source": [
    "df_ts['Stop Resolution'].value_counts()"
   ]
  },
  {
   "cell_type": "code",
   "execution_count": 13,
   "metadata": {
    "scrolled": true
   },
   "outputs": [
    {
     "name": "stdout",
     "output_type": "stream",
     "text": [
      "0.406516269530837\n",
      "0.5934837304691629\n"
     ]
    }
   ],
   "source": [
    "total = 15657 + 11685 + 728 + 19048 + 179\n",
    "less_impactful = 19048 + 179\n",
    "percent_less_impactful = less_impactful / total\n",
    "more_impactful = 15657 + 11685 + 728\n",
    "percent_more_impactful = more_impactful / total\n",
    "print(percent_less_impactful)\n",
    "print(percent_more_impactful)"
   ]
  },
  {
   "cell_type": "code",
   "execution_count": 14,
   "metadata": {},
   "outputs": [
    {
     "data": {
      "image/png": "[encoded data removed]",
      "text/plain": [
       "<Figure size 1080x432 with 1 Axes>"
      ]
     },
     "metadata": {
      "needs_background": "light"
     },
     "output_type": "display_data"
    }
   ],
   "source": [
    "# visualize distinction of value counts among Stop Resolution values\n",
    "\n",
    "f = plt.figure(figsize=(15, 6))\n",
    "sns.set_style(\"dark\")\n",
    "sns.countplot(data=df_ts, x='Stop Resolution', order=df_ts['Stop Resolution'].value_counts().index, orient=\"v\")\n",
    "plt.title(\"Stop Resolution Outcomes Across Terry Stops\");"
   ]
  },
  {
   "cell_type": "code",
   "execution_count": 14,
   "metadata": {},
   "outputs": [
    {
     "data": {
      "image/png": "[encoded data removed]",
      "text/plain": [
       "<Figure size 1440x432 with 1 Axes>"
      ]
     },
     "metadata": {},
     "output_type": "display_data"
    }
   ],
   "source": [
    "# visualize distinction of value counts among perceived races of subjects\n",
    "\n",
    "f = plt.figure(figsize=(20, 6))\n",
    "sns.set_style(\"dark\")\n",
    "sns.countplot(data=df_ts, x='Subject Perceived Race', order=df_ts['Subject Perceived Race'].value_counts().index, orient=\"v\")\n",
    "plt.title(\"Subject Perceived Race Across Terry Stops\");"
   ]
  },
  {
   "cell_type": "code",
   "execution_count": 15,
   "metadata": {},
   "outputs": [
    {
     "data": {
      "image/png": "[encoded data removed]",
      "text/plain": [
       "<Figure size 1440x432 with 1 Axes>"
      ]
     },
     "metadata": {},
     "output_type": "display_data"
    }
   ],
   "source": [
    "# visualize distinction of value counts among officer race\n",
    "\n",
    "f = plt.figure(figsize=(20, 6))\n",
    "sns.set_style(\"dark\")\n",
    "sns.countplot(data=df_ts, x='Officer Race', order=df_ts['Officer Race'].value_counts().index, orient=\"v\")\n",
    "plt.title(\"Officer Race Across Terry Stops\");"
   ]
  },
  {
   "cell_type": "code",
   "execution_count": 16,
   "metadata": {},
   "outputs": [
    {
     "data": {
      "image/png": "[encoded data removed]",
      "text/plain": [
       "<Figure size 1440x432 with 1 Axes>"
      ]
     },
     "metadata": {},
     "output_type": "display_data"
    }
   ],
   "source": [
    "# visualize distinction of value counts among represented precincts\n",
    "\n",
    "f = plt.figure(figsize=(20, 6))\n",
    "sns.set_style(\"dark\")\n",
    "sns.countplot(data=df_ts, x='Precinct', order=df_ts['Precinct'].value_counts().index, orient=\"v\")\n",
    "plt.title(\"Precincts Represented Across Terry Stops\");"
   ]
  },
  {
   "cell_type": "markdown",
   "metadata": {},
   "source": [
    "After investigating our column, we can see that `Stop Resolution` is the best way to determine if a Terry Stop resulted in an outcome that could be considered significant or life-altering.\n",
    "\n",
    "Of the disparate value counts, we concluded that `Field Contact` and `Citation / Infraction` represent 40.6% of results and could be considered less significant to a person's livelihood. In comparison, `Offense Report`, `Arrest`, and `Referred for Prosecution` represented 59.4% of data and each represent a life-altering outcome for the individual stopped.\n",
    "\n",
    "Since our objective is to help predict whether an arrest was made after a Terry Stop, representing a binary classification problem, we'll want to ensure our target variable, `Stop Resolution`, is prepared for the algorithms we'll use to make this estimation."
   ]
  },
  {
   "cell_type": "code",
   "execution_count": 15,
   "metadata": {},
   "outputs": [
    {
     "data": {
      "text/plain": [
       "{'Field Contact': 19048,\n",
       " 'Offense Report': 15657,\n",
       " 'Arrest': 11685,\n",
       " 'Referred for Prosecution': 728,\n",
       " 'Citation / Infraction': 179}"
      ]
     },
     "execution_count": 15,
     "metadata": {},
     "output_type": "execute_result"
    }
   ],
   "source": [
    "df_ts[\"Stop Resolution\"].value_counts().to_dict()"
   ]
  },
  {
   "cell_type": "code",
   "execution_count": 16,
   "metadata": {},
   "outputs": [],
   "source": [
    "# map to column\n",
    "\n",
    "df_ts['Stop Resolution'] = df_ts['Stop Resolution'].map({'Field Contact': 0,\n",
    "                                                   'Offense Report': 1,\n",
    "                                                   'Arrest': 1,\n",
    "                                                   'Referred for Prosecution': 1,\n",
    "                                                   'Citation / Infraction': 0})\n"
   ]
  },
  {
   "cell_type": "markdown",
   "metadata": {},
   "source": [
    "Let's also ensure other columns we deem significant are clearly prepared and represented for modeling."
   ]
  },
  {
   "cell_type": "code",
   "execution_count": 17,
   "metadata": {},
   "outputs": [
    {
     "data": {
      "text/plain": [
       "None                                    32565\n",
       "-                                       11935\n",
       "Lethal Cutting Instrument                1482\n",
       "Knife/Cutting/Stabbing Instrument         636\n",
       "Handgun                                   291\n",
       "Firearm Other                             100\n",
       "Blunt Object/Striking Implement            86\n",
       "Club, Blackjack, Brass Knuckles            49\n",
       "Firearm                                    38\n",
       "Mace/Pepper Spray                          28\n",
       "Other Firearm                              23\n",
       "Firearm (unk type)                         15\n",
       "Taser/Stun Gun                             10\n",
       "Club                                        9\n",
       "Fire/Incendiary Device                      7\n",
       "None/Not Applicable                         7\n",
       "Rifle                                       7\n",
       "Shotgun                                     3\n",
       "Personal Weapons (hands, feet, etc.)        2\n",
       "Automatic Handgun                           2\n",
       "Blackjack                                   1\n",
       "Brass Knuckles                              1\n",
       "Name: Weapon Type, dtype: int64"
      ]
     },
     "execution_count": 17,
     "metadata": {},
     "output_type": "execute_result"
    }
   ],
   "source": [
    "df_ts['Weapon Type'].value_counts()"
   ]
  },
  {
   "cell_type": "code",
   "execution_count": 18,
   "metadata": {},
   "outputs": [
    {
     "data": {
      "text/plain": [
       "{'None': 32565,\n",
       " '-': 11935,\n",
       " 'Lethal Cutting Instrument': 1482,\n",
       " 'Knife/Cutting/Stabbing Instrument': 636,\n",
       " 'Handgun': 291,\n",
       " 'Firearm Other': 100,\n",
       " 'Blunt Object/Striking Implement': 86,\n",
       " 'Club, Blackjack, Brass Knuckles': 49,\n",
       " 'Firearm': 38,\n",
       " 'Mace/Pepper Spray': 28,\n",
       " 'Other Firearm': 23,\n",
       " 'Firearm (unk type)': 15,\n",
       " 'Taser/Stun Gun': 10,\n",
       " 'Club': 9,\n",
       " 'Fire/Incendiary Device': 7,\n",
       " 'None/Not Applicable': 7,\n",
       " 'Rifle': 7,\n",
       " 'Shotgun': 3,\n",
       " 'Personal Weapons (hands, feet, etc.)': 2,\n",
       " 'Automatic Handgun': 2,\n",
       " 'Blackjack': 1,\n",
       " 'Brass Knuckles': 1}"
      ]
     },
     "execution_count": 18,
     "metadata": {},
     "output_type": "execute_result"
    }
   ],
   "source": [
    "df_ts[\"Weapon Type\"].value_counts().to_dict()"
   ]
  },
  {
   "cell_type": "code",
   "execution_count": 19,
   "metadata": {},
   "outputs": [],
   "source": [
    "df_ts['Weapon Type'] = df_ts['Weapon Type'].map({'None': 'NA',\n",
    "                                           '-': 'NA',\n",
    "                                           'Lethal Cutting Instrument': 'Non-Firearm',\n",
    "                                           'Knife/Cutting/Stabbing Instrument': 'Non-Firearm',\n",
    "                                           'Handgun': 'Firearm',\n",
    "                                           'Firearm Other': 'Firearm',\n",
    "                                           'Blunt Object/Striking Implement': 'Non-Firearm',\n",
    "                                           'Club, Blackjack, Brass Knuckles': 'Non-Firearm',\n",
    "                                           'Firearm': 'Firearm',\n",
    "                                           'Mace/Pepper Spray': 'Non-Firearm',\n",
    "                                           'Other Firearm': 'Firearm',\n",
    "                                           'Firearm (unk type)': 'Firearm',\n",
    "                                           'Taser/Stun Gun': 'Non-Firearm',\n",
    "                                           'Club': 'Non-Firearm',\n",
    "                                           'Fire/Incendiary Device': 'Non-Firearm',\n",
    "                                           'None/Not Applicable': 'NA',\n",
    "                                           'Rifle': 'Firearm',\n",
    "                                           'Shotgun': 'Firearm',\n",
    "                                           'Personal Weapons (hands, feet, etc.)': 'Non-Firearm',\n",
    "                                           'Automatic Handgun': 'Firearm',\n",
    "                                           'Blackjack': 'Non-Firearm',\n",
    "                                           'Brass Knuckles': 'Non-Firearm'})"
   ]
  },
  {
   "cell_type": "code",
   "execution_count": 20,
   "metadata": {},
   "outputs": [],
   "source": [
    "df_ts.drop(columns=['Subject Age Group','Subject ID','GO / SC Num','Terry Stop ID','Officer ID','Officer Race',\n",
    "                'Reported Date','Reported Time','Initial Call Type','Final Call Type','Arrest Flag','Call Type','Sector','Beat'], axis=1, inplace=True)"
   ]
  },
  {
   "cell_type": "code",
   "execution_count": 21,
   "metadata": {},
   "outputs": [
    {
     "name": "stdout",
     "output_type": "stream",
     "text": [
      "<class 'pandas.core.frame.DataFrame'>\n",
      "RangeIndex: 47297 entries, 0 to 47296\n",
      "Data columns (total 8 columns):\n",
      " #   Column                    Non-Null Count  Dtype \n",
      "---  ------                    --------------  ----- \n",
      " 0   Stop Resolution           47297 non-null  int64 \n",
      " 1   Weapon Type               47297 non-null  object\n",
      " 2   Officer YOB               47297 non-null  int64 \n",
      " 3   Officer Gender            47297 non-null  object\n",
      " 4   Subject Perceived Race    47297 non-null  object\n",
      " 5   Subject Perceived Gender  47297 non-null  object\n",
      " 6   Frisk Flag                47297 non-null  object\n",
      " 7   Precinct                  47297 non-null  object\n",
      "dtypes: int64(2), object(6)\n",
      "memory usage: 2.9+ MB\n"
     ]
    }
   ],
   "source": [
    "df_ts.info()"
   ]
  },
  {
   "cell_type": "markdown",
   "metadata": {},
   "source": [
    "## Train Test Split"
   ]
  },
  {
   "cell_type": "code",
   "execution_count": 22,
   "metadata": {},
   "outputs": [],
   "source": [
    "X = df_ts.loc[:, ['Weapon Type','Frisk Flag','Precinct','Officer Gender','Subject Perceived Gender',\n",
    "                  'Subject Perceived Race']]\n",
    "y = df_ts.loc[:, 'Stop Resolution'] #see Smote\n",
    "\n",
    "X_train, X_test, y_train, y_test = train_test_split(X, y, test_size = 0.3,random_state=42)"
   ]
  },
  {
   "cell_type": "code",
   "execution_count": 23,
   "metadata": {},
   "outputs": [],
   "source": [
    "# use ohe on training data\n",
    "ohe = OneHotEncoder()\n",
    "\n",
    "ohe.fit(X_train)\n",
    "X_train_ohe = ohe.transform(X_train).toarray()\n",
    "X_test_ohe = ohe.transform(X_test).toarray()\n",
    "\n",
    "# create dataframe with training and testing data\n",
    "ohe_df1 = pd.DataFrame(X_train_ohe, columns=ohe.get_feature_names(X_train.columns))\n",
    "ohe_df2 = pd.DataFrame(X_test_ohe, columns=ohe.get_feature_names(X_test.columns))\n",
    "ohe_df = pd.concat([ohe_df1,ohe_df2])"
   ]
  },
  {
   "cell_type": "markdown",
   "metadata": {},
   "source": [
    "## Create Logistic Regression Model"
   ]
  },
  {
   "cell_type": "code",
   "execution_count": 24,
   "metadata": {},
   "outputs": [
    {
     "name": "stdout",
     "output_type": "stream",
     "text": [
      "LogisticRegression()\n"
     ]
    },
    {
     "name": "stderr",
     "output_type": "stream",
     "text": [
      "/opt/anaconda3/envs/learn-env/lib/python3.6/site-packages/sklearn/linear_model/_logistic.py:764: ConvergenceWarning: lbfgs failed to converge (status=1):\n",
      "STOP: TOTAL NO. of ITERATIONS REACHED LIMIT.\n",
      "\n",
      "Increase the number of iterations (max_iter) or scale the data as shown in:\n",
      "    https://scikit-learn.org/stable/modules/preprocessing.html\n",
      "Please also refer to the documentation for alternative solver options:\n",
      "    https://scikit-learn.org/stable/modules/linear_model.html#logistic-regression\n",
      "  extra_warning_msg=_LOGISTIC_SOLVER_CONVERGENCE_MSG)\n"
     ]
    },
    {
     "data": {
      "text/plain": [
       "'              precision    recall  f1-score   support\\n\\n           0       0.90      0.54      0.67      5809\\n           1       0.75      0.96      0.84      8381\\n\\n    accuracy                           0.79     14190\\n   macro avg       0.83      0.75      0.76     14190\\nweighted avg       0.81      0.79      0.77     14190\\n'"
      ]
     },
     "metadata": {},
     "output_type": "display_data"
    }
   ],
   "source": [
    "lr_one = LogisticRegression()\n",
    "lr_one = lr_one.fit(X_train_ohe, y_train)\n",
    "\n",
    "# preview model params\n",
    "print(lr_one)\n",
    "\n",
    "# predict\n",
    "y_pred = lr_one.predict(X_test_ohe)\n",
    "\n",
    "# evaluate model with a classification report\n",
    "display(classification_report(y_test, y_pred))"
   ]
  },
  {
   "cell_type": "code",
   "execution_count": 33,
   "metadata": {},
   "outputs": [
    {
     "name": "stdout",
     "output_type": "stream",
     "text": [
      "Confusion matrix, without normalization\n",
      "[[3110 2699]\n",
      " [ 336 8045]]\n"
     ]
    }
   ],
   "source": [
    "# evaluate model with confusion matrix\n",
    "\n",
    "def plot_confusion_matrix(cm, classes,\n",
    "                          normalize=False,\n",
    "                          title='Confusion matrix',\n",
    "                          cmap=plt.cm.Blues):\n",
    "    \"\"\"\n",
    "    This function prints and plots the confusion matrix.\n",
    "    Normalization can be applied by setting `normalize=True`.\n",
    "    \"\"\"\n",
    "    if normalize:\n",
    "        cm = cm.astype('float') / cm.sum(axis=1)[:, np.newaxis]\n",
    "        print(\"Normalized confusion matrix\")\n",
    "    else:\n",
    "        print('Confusion matrix, without normalization')\n",
    "\n",
    "    print(cm)\n",
    "\n",
    "# Compute confusion matrix\n",
    "cnf_matrix = confusion_matrix(y_test, y_pred)\n",
    "np.set_printoptions(precision=2)\n",
    "\n",
    "# Plot non-normalized confusion matrix\n",
    "\n",
    "plot_confusion_matrix(cnf_matrix, classes=['Forged','Authorized'],\n",
    "                      title='Confusion matrix, without normalization')"
   ]
  },
  {
   "cell_type": "markdown",
   "metadata": {},
   "source": [
    "## Iterate on Logistic Regression Model"
   ]
  },
  {
   "cell_type": "code",
   "execution_count": 26,
   "metadata": {},
   "outputs": [
    {
     "name": "stdout",
     "output_type": "stream",
     "text": [
      "LogisticRegression(C=0.5, penalty='l1', solver='liblinear')\n"
     ]
    },
    {
     "data": {
      "text/plain": [
       "'              precision    recall  f1-score   support\\n\\n           0       0.90      0.54      0.67      5809\\n           1       0.75      0.96      0.84      8381\\n\\n    accuracy                           0.79     14190\\n   macro avg       0.83      0.75      0.76     14190\\nweighted avg       0.81      0.79      0.77     14190\\n'"
      ]
     },
     "execution_count": 26,
     "metadata": {},
     "output_type": "execute_result"
    }
   ],
   "source": [
    "lr_two = LogisticRegression(solver='liblinear',penalty='l1',C=.5)\n",
    "lr_two = lr_two.fit(X_train_ohe, y_train)\n",
    "\n",
    "# preview model params\n",
    "print(lr_two)\n",
    "\n",
    "# predict\n",
    "y_pred = lr_two.predict(X_test_ohe)\n",
    "\n",
    "# evaluate model with a classification report\n",
    "classification_report(y_test, y_pred)"
   ]
  },
  {
   "cell_type": "code",
   "execution_count": 27,
   "metadata": {},
   "outputs": [
    {
     "name": "stdout",
     "output_type": "stream",
     "text": [
      "Confusion matrix, without normalization\n",
      "[[3110 2699]\n",
      " [ 336 8045]]\n"
     ]
    }
   ],
   "source": [
    "# evaluate model with confusion matrix\n",
    "\n",
    "def plot_confusion_matrix(cm, classes,\n",
    "                          normalize=False,\n",
    "                          title='Confusion matrix',\n",
    "                          cmap=plt.cm.Blues):\n",
    "    \"\"\"\n",
    "    This function prints and plots the confusion matrix.\n",
    "    Normalization can be applied by setting `normalize=True`.\n",
    "    \"\"\"\n",
    "    if normalize:\n",
    "        cm = cm.astype('float') / cm.sum(axis=1)[:, np.newaxis]\n",
    "        print(\"Normalized confusion matrix\")\n",
    "    else:\n",
    "        print('Confusion matrix, without normalization')\n",
    "\n",
    "    print(cm)\n",
    "\n",
    "# Compute confusion matrix\n",
    "cnf_matrix = confusion_matrix(y_test, y_pred)\n",
    "np.set_printoptions(precision=2)\n",
    "\n",
    "# Plot non-normalized confusion matrix\n",
    "\n",
    "plot_confusion_matrix(cnf_matrix, classes=['Forged','Authorized'],\n",
    "                      title='Confusion matrix, without normalization')"
   ]
  },
  {
   "cell_type": "markdown",
   "metadata": {},
   "source": [
    "## Create Decision Tree Model"
   ]
  },
  {
   "cell_type": "code",
   "execution_count": 34,
   "metadata": {
    "scrolled": true
   },
   "outputs": [
    {
     "data": {
      "text/plain": [
       "0.7911619899114991"
      ]
     },
     "execution_count": 34,
     "metadata": {},
     "output_type": "execute_result"
    }
   ],
   "source": [
    "dt = DecisionTreeClassifier(max_depth=8)\n",
    "dt.fit(X_train_ohe, y_train)\n",
    "dt.score(X_train_ohe, y_train)"
   ]
  },
  {
   "cell_type": "code",
   "execution_count": 35,
   "metadata": {},
   "outputs": [
    {
     "name": "stdout",
     "output_type": "stream",
     "text": [
      "Confusion matrix, without normalization\n",
      "[[3110 2699]\n",
      " [ 336 8045]]\n"
     ]
    }
   ],
   "source": [
    "# evaluate model with confusion matrix\n",
    "\n",
    "def plot_confusion_matrix(cm, classes,\n",
    "                          normalize=False,\n",
    "                          title='Confusion matrix',\n",
    "                          cmap=plt.cm.Blues):\n",
    "    \"\"\"\n",
    "    This function prints and plots the confusion matrix.\n",
    "    Normalization can be applied by setting `normalize=True`.\n",
    "    \"\"\"\n",
    "    if normalize:\n",
    "        cm = cm.astype('float') / cm.sum(axis=1)[:, np.newaxis]\n",
    "        print(\"Normalized confusion matrix\")\n",
    "    else:\n",
    "        print('Confusion matrix, without normalization')\n",
    "\n",
    "    print(cm)\n",
    "\n",
    "# Compute confusion matrix\n",
    "cnf_matrix = confusion_matrix(y_test, y_pred)\n",
    "np.set_printoptions(precision=2)\n",
    "\n",
    "# Plot non-normalized confusion matrix\n",
    "\n",
    "plot_confusion_matrix(cnf_matrix, classes=['Forged','Authorized'],\n",
    "                      title='Confusion matrix, without normalization')"
   ]
  },
  {
   "cell_type": "markdown",
   "metadata": {},
   "source": [
    "## Iterate on Decision Tree Model"
   ]
  },
  {
   "cell_type": "code",
   "execution_count": 36,
   "metadata": {},
   "outputs": [
    {
     "data": {
      "text/plain": [
       "0.7884133264868457"
      ]
     },
     "execution_count": 36,
     "metadata": {},
     "output_type": "execute_result"
    }
   ],
   "source": [
    "dt_two = DecisionTreeClassifier(max_depth=3)\n",
    "dt_two.fit(X_train_ohe, y_train)\n",
    "dt_two.score(X_train_ohe, y_train)"
   ]
  },
  {
   "cell_type": "code",
   "execution_count": 37,
   "metadata": {},
   "outputs": [
    {
     "name": "stdout",
     "output_type": "stream",
     "text": [
      "Confusion matrix, without normalization\n",
      "[[3110 2699]\n",
      " [ 336 8045]]\n"
     ]
    }
   ],
   "source": [
    "# evaluate model with confusion matrix\n",
    "\n",
    "def plot_confusion_matrix(cm, classes,\n",
    "                          normalize=False,\n",
    "                          title='Confusion matrix',\n",
    "                          cmap=plt.cm.Blues):\n",
    "    \"\"\"\n",
    "    This function prints and plots the confusion matrix.\n",
    "    Normalization can be applied by setting `normalize=True`.\n",
    "    \"\"\"\n",
    "    if normalize:\n",
    "        cm = cm.astype('float') / cm.sum(axis=1)[:, np.newaxis]\n",
    "        print(\"Normalized confusion matrix\")\n",
    "    else:\n",
    "        print('Confusion matrix, without normalization')\n",
    "\n",
    "    print(cm)\n",
    "\n",
    "# Compute confusion matrix\n",
    "cnf_matrix = confusion_matrix(y_test, y_pred)\n",
    "np.set_printoptions(precision=2)\n",
    "\n",
    "# Plot non-normalized confusion matrix\n",
    "\n",
    "plot_confusion_matrix(cnf_matrix, classes=['Forged','Authorized'],\n",
    "                      title='Confusion matrix, without normalization')"
   ]
  },
  {
   "cell_type": "markdown",
   "metadata": {},
   "source": [
    "Alternating depth is just the start for the amount of tweaking we can do in order to improve the accuracy of our models."
   ]
  }
 ],
 "metadata": {
  "kernelspec": {
   "display_name": "Python 3",
   "language": "python",
   "name": "python3"
  },
  "language_info": {
   "codemirror_mode": {
    "name": "ipython",
    "version": 3
   },
   "file_extension": ".py",
   "mimetype": "text/x-python",
   "name": "python",
   "nbconvert_exporter": "python",
   "pygments_lexer": "ipython3",
   "version": "3.6.12"
  }
 },
 "nbformat": 4,
 "nbformat_minor": 4
}
